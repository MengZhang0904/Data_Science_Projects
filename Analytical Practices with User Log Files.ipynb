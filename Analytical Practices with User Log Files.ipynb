{
 "cells": [
  {
   "cell_type": "markdown",
   "metadata": {
    "toc": true
   },
   "source": [
    "<h1>Table of Contents<span class=\"tocSkip\"></span></h1>\n",
    "<div class=\"toc\"><ul class=\"toc-item\"><li><span><a href=\"#Analytics\" data-toc-modified-id=\"Analytics-1\"><span class=\"toc-item-num\">1&nbsp;&nbsp;</span>Analytics</a></span><ul class=\"toc-item\"><li><span><a href=\"#Data-set\" data-toc-modified-id=\"Data-set-1.1\"><span class=\"toc-item-num\">1.1&nbsp;&nbsp;</span>Data set</a></span></li><li><span><a href=\"#Question-1\" data-toc-modified-id=\"Question-1-1.2\"><span class=\"toc-item-num\">1.2&nbsp;&nbsp;</span>Question 1</a></span></li><li><span><a href=\"#Question-2\" data-toc-modified-id=\"Question-2-1.3\"><span class=\"toc-item-num\">1.3&nbsp;&nbsp;</span>Question 2</a></span></li><li><span><a href=\"#Question-3\" data-toc-modified-id=\"Question-3-1.4\"><span class=\"toc-item-num\">1.4&nbsp;&nbsp;</span>Question 3</a></span></li><li><span><a href=\"#Question-4\" data-toc-modified-id=\"Question-4-1.5\"><span class=\"toc-item-num\">1.5&nbsp;&nbsp;</span>Question 4</a></span></li></ul></li></ul></div>"
   ]
  },
  {
   "cell_type": "markdown",
   "metadata": {},
   "source": [
    "# Analytics\n",
    "## Data set\n",
    "* It record users' visits of websites\n",
    "* It contains 4 columns, ts for timestamp, user_id, country_id, site_id\n",
    "* It contains 3554 rows"
   ]
  },
  {
   "cell_type": "code",
   "execution_count": 10,
   "metadata": {},
   "outputs": [],
   "source": [
    "from IPython.core.interactiveshell import InteractiveShell\n",
    "InteractiveShell.ast_node_interactivity = \"all\""
   ]
  },
  {
   "cell_type": "code",
   "execution_count": 11,
   "metadata": {},
   "outputs": [
    {
     "data": {
      "text/html": [
       "<div>\n",
       "<style scoped>\n",
       "    .dataframe tbody tr th:only-of-type {\n",
       "        vertical-align: middle;\n",
       "    }\n",
       "\n",
       "    .dataframe tbody tr th {\n",
       "        vertical-align: top;\n",
       "    }\n",
       "\n",
       "    .dataframe thead th {\n",
       "        text-align: right;\n",
       "    }\n",
       "</style>\n",
       "<table border=\"1\" class=\"dataframe\">\n",
       "  <thead>\n",
       "    <tr style=\"text-align: right;\">\n",
       "      <th></th>\n",
       "      <th>ts</th>\n",
       "      <th>user_id</th>\n",
       "      <th>country_id</th>\n",
       "      <th>site_id</th>\n",
       "    </tr>\n",
       "  </thead>\n",
       "  <tbody>\n",
       "    <tr>\n",
       "      <th>0</th>\n",
       "      <td>2019-02-01 00:01:24</td>\n",
       "      <td>LC36FC</td>\n",
       "      <td>TL6</td>\n",
       "      <td>N0OTG</td>\n",
       "    </tr>\n",
       "    <tr>\n",
       "      <th>1</th>\n",
       "      <td>2019-02-01 00:10:19</td>\n",
       "      <td>LC39B6</td>\n",
       "      <td>TL6</td>\n",
       "      <td>N0OTG</td>\n",
       "    </tr>\n",
       "    <tr>\n",
       "      <th>2</th>\n",
       "      <td>2019-02-01 00:21:50</td>\n",
       "      <td>LC3500</td>\n",
       "      <td>TL6</td>\n",
       "      <td>N0OTG</td>\n",
       "    </tr>\n",
       "    <tr>\n",
       "      <th>3</th>\n",
       "      <td>2019-02-01 00:22:50</td>\n",
       "      <td>LC374F</td>\n",
       "      <td>TL6</td>\n",
       "      <td>N0OTG</td>\n",
       "    </tr>\n",
       "    <tr>\n",
       "      <th>4</th>\n",
       "      <td>2019-02-01 00:23:44</td>\n",
       "      <td>LCC1C3</td>\n",
       "      <td>TL6</td>\n",
       "      <td>QGO3G</td>\n",
       "    </tr>\n",
       "  </tbody>\n",
       "</table>\n",
       "</div>"
      ],
      "text/plain": [
       "                    ts user_id country_id site_id\n",
       "0  2019-02-01 00:01:24  LC36FC        TL6   N0OTG\n",
       "1  2019-02-01 00:10:19  LC39B6        TL6   N0OTG\n",
       "2  2019-02-01 00:21:50  LC3500        TL6   N0OTG\n",
       "3  2019-02-01 00:22:50  LC374F        TL6   N0OTG\n",
       "4  2019-02-01 00:23:44  LCC1C3        TL6   QGO3G"
      ]
     },
     "execution_count": 11,
     "metadata": {},
     "output_type": "execute_result"
    },
    {
     "name": "stdout",
     "output_type": "stream",
     "text": [
      "<class 'pandas.core.frame.DataFrame'>\n",
      "RangeIndex: 3553 entries, 0 to 3552\n",
      "Data columns (total 4 columns):\n",
      "ts            3553 non-null object\n",
      "user_id       3553 non-null object\n",
      "country_id    3553 non-null object\n",
      "site_id       3553 non-null object\n",
      "dtypes: object(4)\n",
      "memory usage: 111.1+ KB\n"
     ]
    }
   ],
   "source": [
    "# Load libraries\n",
    "import pandas as pd\n",
    "\n",
    "# Read the data set\n",
    "visit_df = pd.read_csv('./Data/Analytics.csv')\n",
    "visit_df.head()\n",
    "visit_df.info()"
   ]
  },
  {
   "cell_type": "code",
   "execution_count": 13,
   "metadata": {},
   "outputs": [
    {
     "data": {
      "text/plain": [
       "0"
      ]
     },
     "execution_count": 13,
     "metadata": {},
     "output_type": "execute_result"
    }
   ],
   "source": [
    "# Check duplicates\n",
    "visit_df.duplicated().sum()"
   ]
  },
  {
   "cell_type": "markdown",
   "metadata": {},
   "source": [
    "## Question 1\n",
    "Consider only the rows with country_id = \"BDV\" (there are 844 such rows). For each site_id, we can compute the number of unique user_id's found in these 844 rows. Which site_id has the largest number of unique users? And what's the number?"
   ]
  },
  {
   "cell_type": "markdown",
   "metadata": {},
   "source": [
    "To solve this question,\n",
    "1. Select rows with country_id = \"BDV\"\n",
    "2. In this subset, compute the number of unique user_id for each site_id (i.e., group by site_id)"
   ]
  },
  {
   "cell_type": "code",
   "execution_count": 14,
   "metadata": {},
   "outputs": [
    {
     "data": {
      "text/plain": [
       "site_id\n",
       "3POLC      2\n",
       "5NPAU    544\n",
       "N0OTG     90\n",
       "Name: user_id, dtype: int64"
      ]
     },
     "execution_count": 14,
     "metadata": {},
     "output_type": "execute_result"
    }
   ],
   "source": [
    "visit_df[visit_df.country_id == 'BDV'].groupby('site_id').nunique()['user_id']"
   ]
  },
  {
   "cell_type": "markdown",
   "metadata": {},
   "source": [
    "The site '5NPAU' has the largest number of unique users. The number is 544."
   ]
  },
  {
   "cell_type": "markdown",
   "metadata": {},
   "source": [
    "## Question 2\n",
    "Between 2019-02-03 00:00:00 and 2019-02-04 23:59:59, there are four users who visited a certain site more than 10 times. Find these four users & which sites they (each) visited more than 10 times."
   ]
  },
  {
   "cell_type": "markdown",
   "metadata": {},
   "source": [
    "To solve this problem,\n",
    "1. Subset the records between 2019-02-03 00:00:00 and 2019-02-04 23:59:59\n",
    "2. In this subset, count the number of visits for each user_id and site_id (i.e., group by user_id and site_id)\n",
    "3. From the output of the above step, select records which has more than 10 visits"
   ]
  },
  {
   "cell_type": "code",
   "execution_count": 15,
   "metadata": {},
   "outputs": [
    {
     "name": "stdout",
     "output_type": "stream",
     "text": [
      "<class 'pandas.core.frame.DataFrame'>\n",
      "RangeIndex: 3553 entries, 0 to 3552\n",
      "Data columns (total 4 columns):\n",
      "ts            3553 non-null datetime64[ns]\n",
      "user_id       3553 non-null object\n",
      "country_id    3553 non-null object\n",
      "site_id       3553 non-null object\n",
      "dtypes: datetime64[ns](1), object(3)\n",
      "memory usage: 111.1+ KB\n"
     ]
    }
   ],
   "source": [
    "# For the column of ts, cast object type to datetime\n",
    "visit_df['ts'] = pd.to_datetime(visit_df['ts'])\n",
    "visit_df.info()"
   ]
  },
  {
   "cell_type": "code",
   "execution_count": 16,
   "metadata": {},
   "outputs": [],
   "source": [
    "visit_subset = visit_df[(visit_df.ts >= '2019-02-03 00:00:00')&(visit_df.ts <= '2019-02-04 23:59:59')]"
   ]
  },
  {
   "cell_type": "code",
   "execution_count": 17,
   "metadata": {},
   "outputs": [],
   "source": [
    "vis_sub_cnt = visit_subset.groupby(['user_id','site_id']).size().to_frame('count').reset_index()"
   ]
  },
  {
   "cell_type": "code",
   "execution_count": 18,
   "metadata": {
    "scrolled": true
   },
   "outputs": [
    {
     "data": {
      "text/html": [
       "<div>\n",
       "<style scoped>\n",
       "    .dataframe tbody tr th:only-of-type {\n",
       "        vertical-align: middle;\n",
       "    }\n",
       "\n",
       "    .dataframe tbody tr th {\n",
       "        vertical-align: top;\n",
       "    }\n",
       "\n",
       "    .dataframe thead th {\n",
       "        text-align: right;\n",
       "    }\n",
       "</style>\n",
       "<table border=\"1\" class=\"dataframe\">\n",
       "  <thead>\n",
       "    <tr style=\"text-align: right;\">\n",
       "      <th></th>\n",
       "      <th>user_id</th>\n",
       "      <th>site_id</th>\n",
       "      <th>count</th>\n",
       "    </tr>\n",
       "  </thead>\n",
       "  <tbody>\n",
       "    <tr>\n",
       "      <th>3</th>\n",
       "      <td>LC06C3</td>\n",
       "      <td>N0OTG</td>\n",
       "      <td>25</td>\n",
       "    </tr>\n",
       "    <tr>\n",
       "      <th>417</th>\n",
       "      <td>LC3A59</td>\n",
       "      <td>N0OTG</td>\n",
       "      <td>26</td>\n",
       "    </tr>\n",
       "    <tr>\n",
       "      <th>485</th>\n",
       "      <td>LC3C7E</td>\n",
       "      <td>3POLC</td>\n",
       "      <td>15</td>\n",
       "    </tr>\n",
       "    <tr>\n",
       "      <th>493</th>\n",
       "      <td>LC3C9D</td>\n",
       "      <td>N0OTG</td>\n",
       "      <td>17</td>\n",
       "    </tr>\n",
       "  </tbody>\n",
       "</table>\n",
       "</div>"
      ],
      "text/plain": [
       "    user_id site_id  count\n",
       "3    LC06C3   N0OTG     25\n",
       "417  LC3A59   N0OTG     26\n",
       "485  LC3C7E   3POLC     15\n",
       "493  LC3C9D   N0OTG     17"
      ]
     },
     "execution_count": 18,
     "metadata": {},
     "output_type": "execute_result"
    }
   ],
   "source": [
    "vis_sub_cnt[vis_sub_cnt['count'] > 10]"
   ]
  },
  {
   "cell_type": "markdown",
   "metadata": {},
   "source": [
    "Here are the 4 users asked, the website they visited more than 10 times, and the exact number of visits: <br>\n",
    "('LC06C3',\t'N0OTG',\t25) <br>\n",
    "('LC3A59',\t'N0OTG',\t26) <br>\n",
    "('LC3C7E',\t'3POLC',\t15) <br>\n",
    "('LC3C9D',\t'N0OTG',\t17)"
   ]
  },
  {
   "cell_type": "markdown",
   "metadata": {},
   "source": [
    "## Question 3\n",
    "For each site, compute the unique number of users whose last visit (found in the original data set) was to that site. <br>\n",
    "Based on this measure, what are top three sites?"
   ]
  },
  {
   "cell_type": "markdown",
   "metadata": {},
   "source": [
    "To solve this problem,\n",
    "1. For each user, find the site they visit last\n",
    "    * Group by user and find the entry which has the max ts for each user\n",
    "2. Using the output from the above step, group by site and count the unique number of users\n",
    "3. Output the top 3 sites "
   ]
  },
  {
   "cell_type": "code",
   "execution_count": 19,
   "metadata": {},
   "outputs": [
    {
     "data": {
      "text/html": [
       "<div>\n",
       "<style scoped>\n",
       "    .dataframe tbody tr th:only-of-type {\n",
       "        vertical-align: middle;\n",
       "    }\n",
       "\n",
       "    .dataframe tbody tr th {\n",
       "        vertical-align: top;\n",
       "    }\n",
       "\n",
       "    .dataframe thead th {\n",
       "        text-align: right;\n",
       "    }\n",
       "</style>\n",
       "<table border=\"1\" class=\"dataframe\">\n",
       "  <thead>\n",
       "    <tr style=\"text-align: right;\">\n",
       "      <th></th>\n",
       "      <th>user_id</th>\n",
       "      <th>ts</th>\n",
       "    </tr>\n",
       "  </thead>\n",
       "  <tbody>\n",
       "    <tr>\n",
       "      <th>0</th>\n",
       "      <td>LC00C3</td>\n",
       "      <td>2019-02-03 18:52:50</td>\n",
       "    </tr>\n",
       "    <tr>\n",
       "      <th>1</th>\n",
       "      <td>LC01C3</td>\n",
       "      <td>2019-02-04 11:35:10</td>\n",
       "    </tr>\n",
       "    <tr>\n",
       "      <th>2</th>\n",
       "      <td>LC05C3</td>\n",
       "      <td>2019-02-02 14:14:44</td>\n",
       "    </tr>\n",
       "    <tr>\n",
       "      <th>3</th>\n",
       "      <td>LC06C3</td>\n",
       "      <td>2019-02-07 01:16:12</td>\n",
       "    </tr>\n",
       "    <tr>\n",
       "      <th>4</th>\n",
       "      <td>LC07C3</td>\n",
       "      <td>2019-02-05 19:06:42</td>\n",
       "    </tr>\n",
       "  </tbody>\n",
       "</table>\n",
       "</div>"
      ],
      "text/plain": [
       "  user_id                  ts\n",
       "0  LC00C3 2019-02-03 18:52:50\n",
       "1  LC01C3 2019-02-04 11:35:10\n",
       "2  LC05C3 2019-02-02 14:14:44\n",
       "3  LC06C3 2019-02-07 01:16:12\n",
       "4  LC07C3 2019-02-05 19:06:42"
      ]
     },
     "execution_count": 19,
     "metadata": {},
     "output_type": "execute_result"
    },
    {
     "data": {
      "text/plain": [
       "1916"
      ]
     },
     "execution_count": 19,
     "metadata": {},
     "output_type": "execute_result"
    }
   ],
   "source": [
    "# Find the last time stamp for each user\n",
    "last_vis1 = visit_df.groupby('user_id').agg({'ts': max}).reset_index()\n",
    "last_vis1.head()\n",
    "len(last_vis1)"
   ]
  },
  {
   "cell_type": "code",
   "execution_count": 20,
   "metadata": {},
   "outputs": [
    {
     "data": {
      "text/html": [
       "<div>\n",
       "<style scoped>\n",
       "    .dataframe tbody tr th:only-of-type {\n",
       "        vertical-align: middle;\n",
       "    }\n",
       "\n",
       "    .dataframe tbody tr th {\n",
       "        vertical-align: top;\n",
       "    }\n",
       "\n",
       "    .dataframe thead th {\n",
       "        text-align: right;\n",
       "    }\n",
       "</style>\n",
       "<table border=\"1\" class=\"dataframe\">\n",
       "  <thead>\n",
       "    <tr style=\"text-align: right;\">\n",
       "      <th></th>\n",
       "      <th>ts</th>\n",
       "      <th>user_id</th>\n",
       "      <th>country_id</th>\n",
       "      <th>site_id</th>\n",
       "    </tr>\n",
       "  </thead>\n",
       "  <tbody>\n",
       "    <tr>\n",
       "      <th>0</th>\n",
       "      <td>2019-02-01 00:10:19</td>\n",
       "      <td>LC39B6</td>\n",
       "      <td>TL6</td>\n",
       "      <td>N0OTG</td>\n",
       "    </tr>\n",
       "    <tr>\n",
       "      <th>1</th>\n",
       "      <td>2019-02-01 00:21:50</td>\n",
       "      <td>LC3500</td>\n",
       "      <td>TL6</td>\n",
       "      <td>N0OTG</td>\n",
       "    </tr>\n",
       "    <tr>\n",
       "      <th>2</th>\n",
       "      <td>2019-02-01 00:23:44</td>\n",
       "      <td>LCC1C3</td>\n",
       "      <td>TL6</td>\n",
       "      <td>QGO3G</td>\n",
       "    </tr>\n",
       "    <tr>\n",
       "      <th>3</th>\n",
       "      <td>2019-02-01 00:41:50</td>\n",
       "      <td>LCC3C3</td>\n",
       "      <td>QLT</td>\n",
       "      <td>5NPAU</td>\n",
       "    </tr>\n",
       "    <tr>\n",
       "      <th>4</th>\n",
       "      <td>2019-02-01 00:42:13</td>\n",
       "      <td>LC39C8</td>\n",
       "      <td>TL6</td>\n",
       "      <td>QGO3G</td>\n",
       "    </tr>\n",
       "  </tbody>\n",
       "</table>\n",
       "</div>"
      ],
      "text/plain": [
       "                   ts user_id country_id site_id\n",
       "0 2019-02-01 00:10:19  LC39B6        TL6   N0OTG\n",
       "1 2019-02-01 00:21:50  LC3500        TL6   N0OTG\n",
       "2 2019-02-01 00:23:44  LCC1C3        TL6   QGO3G\n",
       "3 2019-02-01 00:41:50  LCC3C3        QLT   5NPAU\n",
       "4 2019-02-01 00:42:13  LC39C8        TL6   QGO3G"
      ]
     },
     "execution_count": 20,
     "metadata": {},
     "output_type": "execute_result"
    },
    {
     "data": {
      "text/plain": [
       "1916"
      ]
     },
     "execution_count": 20,
     "metadata": {},
     "output_type": "execute_result"
    }
   ],
   "source": [
    "# Find the corresponding site each user last visited\n",
    "last_vis2 = pd.merge(visit_df, last_vis1, on = ['user_id','ts'])\n",
    "last_vis2.head()\n",
    "len(last_vis2)"
   ]
  },
  {
   "cell_type": "code",
   "execution_count": 21,
   "metadata": {},
   "outputs": [
    {
     "data": {
      "text/plain": [
       "site_id\n",
       "5NPAU    992\n",
       "N0OTG    561\n",
       "QGO3G    289\n",
       "GVOFK     42\n",
       "3POLC     28\n",
       "RT9Z6      2\n",
       "JSUUP      1\n",
       "EUZ/Q      1\n",
       "Name: user_id, dtype: int64"
      ]
     },
     "execution_count": 21,
     "metadata": {},
     "output_type": "execute_result"
    }
   ],
   "source": [
    "# With the output above, count the unique users for each site\n",
    "last_vis2.groupby('site_id').nunique()['user_id'].sort_values(ascending = False)"
   ]
  },
  {
   "cell_type": "markdown",
   "metadata": {},
   "source": [
    "Based on this metric, the top 3 sites and their the number of unique users are: <br>\n",
    "('5NPAU', 992) <br>\n",
    "('N0OTG', 561) <br>\n",
    "('QGO3G', 289)"
   ]
  },
  {
   "cell_type": "markdown",
   "metadata": {},
   "source": [
    "## Question 4\n",
    "For each user, determine the first site he/she visited and the last site he/she visited based on the timestamp data. Compute the number of users whose first and last visits are to the same website. What is the number?"
   ]
  },
  {
   "cell_type": "markdown",
   "metadata": {},
   "source": [
    "To solve this problem,\n",
    "1. For each user, find their first and last visited site\n",
    "    * Group by user, min. ts to find the first visit time\n",
    "    * Group by user, max. ts to find the last visit time\n",
    "2. Find the corresponding sites for each user's first and last visit\n",
    "3. Count users who visited the same site at the first and last time"
   ]
  },
  {
   "cell_type": "code",
   "execution_count": 22,
   "metadata": {},
   "outputs": [
    {
     "data": {
      "text/html": [
       "<div>\n",
       "<style scoped>\n",
       "    .dataframe tbody tr th:only-of-type {\n",
       "        vertical-align: middle;\n",
       "    }\n",
       "\n",
       "    .dataframe tbody tr th {\n",
       "        vertical-align: top;\n",
       "    }\n",
       "\n",
       "    .dataframe thead tr th {\n",
       "        text-align: left;\n",
       "    }\n",
       "</style>\n",
       "<table border=\"1\" class=\"dataframe\">\n",
       "  <thead>\n",
       "    <tr>\n",
       "      <th></th>\n",
       "      <th>user_id</th>\n",
       "      <th colspan=\"2\" halign=\"left\">ts</th>\n",
       "    </tr>\n",
       "    <tr>\n",
       "      <th></th>\n",
       "      <th></th>\n",
       "      <th>min</th>\n",
       "      <th>max</th>\n",
       "    </tr>\n",
       "  </thead>\n",
       "  <tbody>\n",
       "    <tr>\n",
       "      <th>0</th>\n",
       "      <td>LC00C3</td>\n",
       "      <td>2019-02-03 18:52:50</td>\n",
       "      <td>2019-02-03 18:52:50</td>\n",
       "    </tr>\n",
       "    <tr>\n",
       "      <th>1</th>\n",
       "      <td>LC01C3</td>\n",
       "      <td>2019-02-04 11:35:10</td>\n",
       "      <td>2019-02-04 11:35:10</td>\n",
       "    </tr>\n",
       "    <tr>\n",
       "      <th>2</th>\n",
       "      <td>LC05C3</td>\n",
       "      <td>2019-02-02 14:14:44</td>\n",
       "      <td>2019-02-02 14:14:44</td>\n",
       "    </tr>\n",
       "    <tr>\n",
       "      <th>3</th>\n",
       "      <td>LC06C3</td>\n",
       "      <td>2019-02-01 22:49:39</td>\n",
       "      <td>2019-02-07 01:16:12</td>\n",
       "    </tr>\n",
       "    <tr>\n",
       "      <th>4</th>\n",
       "      <td>LC07C3</td>\n",
       "      <td>2019-02-05 19:06:42</td>\n",
       "      <td>2019-02-05 19:06:42</td>\n",
       "    </tr>\n",
       "  </tbody>\n",
       "</table>\n",
       "</div>"
      ],
      "text/plain": [
       "  user_id                  ts                    \n",
       "                          min                 max\n",
       "0  LC00C3 2019-02-03 18:52:50 2019-02-03 18:52:50\n",
       "1  LC01C3 2019-02-04 11:35:10 2019-02-04 11:35:10\n",
       "2  LC05C3 2019-02-02 14:14:44 2019-02-02 14:14:44\n",
       "3  LC06C3 2019-02-01 22:49:39 2019-02-07 01:16:12\n",
       "4  LC07C3 2019-02-05 19:06:42 2019-02-05 19:06:42"
      ]
     },
     "execution_count": 22,
     "metadata": {},
     "output_type": "execute_result"
    },
    {
     "data": {
      "text/plain": [
       "1916"
      ]
     },
     "execution_count": 22,
     "metadata": {},
     "output_type": "execute_result"
    }
   ],
   "source": [
    "# Find the first and last visiting time for each user\n",
    "first_last = visit_df.groupby('user_id').agg({'ts': [min, max]}).reset_index()\n",
    "first_last.head()\n",
    "len(first_last)"
   ]
  },
  {
   "cell_type": "code",
   "execution_count": 23,
   "metadata": {},
   "outputs": [],
   "source": [
    "first_last.columns = ['user_id','ts_min','ts_max']"
   ]
  },
  {
   "cell_type": "code",
   "execution_count": 24,
   "metadata": {},
   "outputs": [
    {
     "data": {
      "text/html": [
       "<div>\n",
       "<style scoped>\n",
       "    .dataframe tbody tr th:only-of-type {\n",
       "        vertical-align: middle;\n",
       "    }\n",
       "\n",
       "    .dataframe tbody tr th {\n",
       "        vertical-align: top;\n",
       "    }\n",
       "\n",
       "    .dataframe thead th {\n",
       "        text-align: right;\n",
       "    }\n",
       "</style>\n",
       "<table border=\"1\" class=\"dataframe\">\n",
       "  <thead>\n",
       "    <tr style=\"text-align: right;\">\n",
       "      <th></th>\n",
       "      <th>user_id</th>\n",
       "      <th>ts_min</th>\n",
       "      <th>ts_max</th>\n",
       "    </tr>\n",
       "  </thead>\n",
       "  <tbody>\n",
       "    <tr>\n",
       "      <th>0</th>\n",
       "      <td>LC00C3</td>\n",
       "      <td>2019-02-03 18:52:50</td>\n",
       "      <td>2019-02-03 18:52:50</td>\n",
       "    </tr>\n",
       "    <tr>\n",
       "      <th>1</th>\n",
       "      <td>LC01C3</td>\n",
       "      <td>2019-02-04 11:35:10</td>\n",
       "      <td>2019-02-04 11:35:10</td>\n",
       "    </tr>\n",
       "    <tr>\n",
       "      <th>2</th>\n",
       "      <td>LC05C3</td>\n",
       "      <td>2019-02-02 14:14:44</td>\n",
       "      <td>2019-02-02 14:14:44</td>\n",
       "    </tr>\n",
       "    <tr>\n",
       "      <th>3</th>\n",
       "      <td>LC06C3</td>\n",
       "      <td>2019-02-01 22:49:39</td>\n",
       "      <td>2019-02-07 01:16:12</td>\n",
       "    </tr>\n",
       "    <tr>\n",
       "      <th>4</th>\n",
       "      <td>LC07C3</td>\n",
       "      <td>2019-02-05 19:06:42</td>\n",
       "      <td>2019-02-05 19:06:42</td>\n",
       "    </tr>\n",
       "  </tbody>\n",
       "</table>\n",
       "</div>"
      ],
      "text/plain": [
       "  user_id              ts_min              ts_max\n",
       "0  LC00C3 2019-02-03 18:52:50 2019-02-03 18:52:50\n",
       "1  LC01C3 2019-02-04 11:35:10 2019-02-04 11:35:10\n",
       "2  LC05C3 2019-02-02 14:14:44 2019-02-02 14:14:44\n",
       "3  LC06C3 2019-02-01 22:49:39 2019-02-07 01:16:12\n",
       "4  LC07C3 2019-02-05 19:06:42 2019-02-05 19:06:42"
      ]
     },
     "execution_count": 24,
     "metadata": {},
     "output_type": "execute_result"
    }
   ],
   "source": [
    "first_last.head()"
   ]
  },
  {
   "cell_type": "code",
   "execution_count": 26,
   "metadata": {},
   "outputs": [
    {
     "data": {
      "text/html": [
       "<div>\n",
       "<style scoped>\n",
       "    .dataframe tbody tr th:only-of-type {\n",
       "        vertical-align: middle;\n",
       "    }\n",
       "\n",
       "    .dataframe tbody tr th {\n",
       "        vertical-align: top;\n",
       "    }\n",
       "\n",
       "    .dataframe thead th {\n",
       "        text-align: right;\n",
       "    }\n",
       "</style>\n",
       "<table border=\"1\" class=\"dataframe\">\n",
       "  <thead>\n",
       "    <tr style=\"text-align: right;\">\n",
       "      <th></th>\n",
       "      <th>ts</th>\n",
       "      <th>user_id</th>\n",
       "      <th>country_id</th>\n",
       "      <th>site_id</th>\n",
       "      <th>ts_min</th>\n",
       "      <th>ts_max</th>\n",
       "    </tr>\n",
       "  </thead>\n",
       "  <tbody>\n",
       "    <tr>\n",
       "      <th>0</th>\n",
       "      <td>2019-02-01 00:01:24</td>\n",
       "      <td>LC36FC</td>\n",
       "      <td>TL6</td>\n",
       "      <td>N0OTG</td>\n",
       "      <td>2019-02-01 00:01:24</td>\n",
       "      <td>2019-02-07 00:24:50</td>\n",
       "    </tr>\n",
       "    <tr>\n",
       "      <th>1</th>\n",
       "      <td>2019-02-01 00:10:19</td>\n",
       "      <td>LC39B6</td>\n",
       "      <td>TL6</td>\n",
       "      <td>N0OTG</td>\n",
       "      <td>2019-02-01 00:10:19</td>\n",
       "      <td>2019-02-01 00:10:19</td>\n",
       "    </tr>\n",
       "    <tr>\n",
       "      <th>2</th>\n",
       "      <td>2019-02-01 00:21:50</td>\n",
       "      <td>LC3500</td>\n",
       "      <td>TL6</td>\n",
       "      <td>N0OTG</td>\n",
       "      <td>2019-02-01 00:21:50</td>\n",
       "      <td>2019-02-01 00:21:50</td>\n",
       "    </tr>\n",
       "    <tr>\n",
       "      <th>3</th>\n",
       "      <td>2019-02-01 00:22:50</td>\n",
       "      <td>LC374F</td>\n",
       "      <td>TL6</td>\n",
       "      <td>N0OTG</td>\n",
       "      <td>2019-02-01 00:22:50</td>\n",
       "      <td>2019-02-03 04:50:43</td>\n",
       "    </tr>\n",
       "    <tr>\n",
       "      <th>4</th>\n",
       "      <td>2019-02-01 00:23:44</td>\n",
       "      <td>LCC1C3</td>\n",
       "      <td>TL6</td>\n",
       "      <td>QGO3G</td>\n",
       "      <td>2019-02-01 00:23:44</td>\n",
       "      <td>2019-02-01 00:23:44</td>\n",
       "    </tr>\n",
       "  </tbody>\n",
       "</table>\n",
       "</div>"
      ],
      "text/plain": [
       "                   ts user_id country_id site_id              ts_min  \\\n",
       "0 2019-02-01 00:01:24  LC36FC        TL6   N0OTG 2019-02-01 00:01:24   \n",
       "1 2019-02-01 00:10:19  LC39B6        TL6   N0OTG 2019-02-01 00:10:19   \n",
       "2 2019-02-01 00:21:50  LC3500        TL6   N0OTG 2019-02-01 00:21:50   \n",
       "3 2019-02-01 00:22:50  LC374F        TL6   N0OTG 2019-02-01 00:22:50   \n",
       "4 2019-02-01 00:23:44  LCC1C3        TL6   QGO3G 2019-02-01 00:23:44   \n",
       "\n",
       "               ts_max  \n",
       "0 2019-02-07 00:24:50  \n",
       "1 2019-02-01 00:10:19  \n",
       "2 2019-02-01 00:21:50  \n",
       "3 2019-02-03 04:50:43  \n",
       "4 2019-02-01 00:23:44  "
      ]
     },
     "execution_count": 26,
     "metadata": {},
     "output_type": "execute_result"
    },
    {
     "data": {
      "text/plain": [
       "1916"
      ]
     },
     "execution_count": 26,
     "metadata": {},
     "output_type": "execute_result"
    },
    {
     "data": {
      "text/html": [
       "<div>\n",
       "<style scoped>\n",
       "    .dataframe tbody tr th:only-of-type {\n",
       "        vertical-align: middle;\n",
       "    }\n",
       "\n",
       "    .dataframe tbody tr th {\n",
       "        vertical-align: top;\n",
       "    }\n",
       "\n",
       "    .dataframe thead th {\n",
       "        text-align: right;\n",
       "    }\n",
       "</style>\n",
       "<table border=\"1\" class=\"dataframe\">\n",
       "  <thead>\n",
       "    <tr style=\"text-align: right;\">\n",
       "      <th></th>\n",
       "      <th>ts_x</th>\n",
       "      <th>user_id</th>\n",
       "      <th>country_id_x</th>\n",
       "      <th>site_id_x</th>\n",
       "      <th>ts_y</th>\n",
       "      <th>country_id_y</th>\n",
       "      <th>site_id_y</th>\n",
       "      <th>ts_min</th>\n",
       "      <th>ts_max</th>\n",
       "    </tr>\n",
       "  </thead>\n",
       "  <tbody>\n",
       "    <tr>\n",
       "      <th>1911</th>\n",
       "      <td>2019-02-07 23:44:34</td>\n",
       "      <td>LC3561</td>\n",
       "      <td>TL6</td>\n",
       "      <td>N0OTG</td>\n",
       "      <td>2019-02-01 00:25:29</td>\n",
       "      <td>TL6</td>\n",
       "      <td>3POLC</td>\n",
       "      <td>2019-02-01 00:25:29</td>\n",
       "      <td>2019-02-07 23:44:34</td>\n",
       "    </tr>\n",
       "    <tr>\n",
       "      <th>1912</th>\n",
       "      <td>2019-02-07 23:55:07</td>\n",
       "      <td>LC3837</td>\n",
       "      <td>TL6</td>\n",
       "      <td>RT9Z6</td>\n",
       "      <td>2019-02-03 03:30:25</td>\n",
       "      <td>QLT</td>\n",
       "      <td>5NPAU</td>\n",
       "      <td>2019-02-03 03:30:25</td>\n",
       "      <td>2019-02-07 23:55:07</td>\n",
       "    </tr>\n",
       "    <tr>\n",
       "      <th>1913</th>\n",
       "      <td>2019-02-07 23:56:57</td>\n",
       "      <td>LC3F13</td>\n",
       "      <td>TL6</td>\n",
       "      <td>QGO3G</td>\n",
       "      <td>2019-02-07 23:56:57</td>\n",
       "      <td>TL6</td>\n",
       "      <td>QGO3G</td>\n",
       "      <td>2019-02-07 23:56:57</td>\n",
       "      <td>2019-02-07 23:56:57</td>\n",
       "    </tr>\n",
       "    <tr>\n",
       "      <th>1914</th>\n",
       "      <td>2019-02-07 23:58:56</td>\n",
       "      <td>LC35EB</td>\n",
       "      <td>TL6</td>\n",
       "      <td>QGO3G</td>\n",
       "      <td>2019-02-07 23:58:56</td>\n",
       "      <td>TL6</td>\n",
       "      <td>QGO3G</td>\n",
       "      <td>2019-02-07 23:58:56</td>\n",
       "      <td>2019-02-07 23:58:56</td>\n",
       "    </tr>\n",
       "    <tr>\n",
       "      <th>1915</th>\n",
       "      <td>2019-02-07 23:59:37</td>\n",
       "      <td>LC3842</td>\n",
       "      <td>HVQ</td>\n",
       "      <td>3POLC</td>\n",
       "      <td>2019-02-05 16:21:30</td>\n",
       "      <td>HVQ</td>\n",
       "      <td>3POLC</td>\n",
       "      <td>2019-02-05 16:21:30</td>\n",
       "      <td>2019-02-07 23:59:37</td>\n",
       "    </tr>\n",
       "  </tbody>\n",
       "</table>\n",
       "</div>"
      ],
      "text/plain": [
       "                    ts_x user_id country_id_x site_id_x                ts_y  \\\n",
       "1911 2019-02-07 23:44:34  LC3561          TL6     N0OTG 2019-02-01 00:25:29   \n",
       "1912 2019-02-07 23:55:07  LC3837          TL6     RT9Z6 2019-02-03 03:30:25   \n",
       "1913 2019-02-07 23:56:57  LC3F13          TL6     QGO3G 2019-02-07 23:56:57   \n",
       "1914 2019-02-07 23:58:56  LC35EB          TL6     QGO3G 2019-02-07 23:58:56   \n",
       "1915 2019-02-07 23:59:37  LC3842          HVQ     3POLC 2019-02-05 16:21:30   \n",
       "\n",
       "     country_id_y site_id_y              ts_min              ts_max  \n",
       "1911          TL6     3POLC 2019-02-01 00:25:29 2019-02-07 23:44:34  \n",
       "1912          QLT     5NPAU 2019-02-03 03:30:25 2019-02-07 23:55:07  \n",
       "1913          TL6     QGO3G 2019-02-07 23:56:57 2019-02-07 23:56:57  \n",
       "1914          TL6     QGO3G 2019-02-07 23:58:56 2019-02-07 23:58:56  \n",
       "1915          HVQ     3POLC 2019-02-05 16:21:30 2019-02-07 23:59:37  "
      ]
     },
     "execution_count": 26,
     "metadata": {},
     "output_type": "execute_result"
    },
    {
     "data": {
      "text/plain": [
       "1916"
      ]
     },
     "execution_count": 26,
     "metadata": {},
     "output_type": "execute_result"
    }
   ],
   "source": [
    "# Find the corresponding sites for each user\n",
    "first_last2 = pd.merge(visit_df, first_last, left_on = ['user_id','ts'], right_on = ['user_id','ts_min'])\n",
    "first_last2.head()\n",
    "len(first_last2)\n",
    "\n",
    "first_last3 = pd.merge(visit_df, first_last2, left_on = ['user_id','ts'], right_on = ['user_id','ts_max'])\n",
    "first_last3.tail()\n",
    "len(first_last3)"
   ]
  },
  {
   "cell_type": "code",
   "execution_count": 27,
   "metadata": {},
   "outputs": [
    {
     "data": {
      "text/plain": [
       "1670"
      ]
     },
     "execution_count": 27,
     "metadata": {},
     "output_type": "execute_result"
    }
   ],
   "source": [
    "same_site = first_last3[first_last3.site_id_x == first_last3.site_id_y]\n",
    "len(same_site)"
   ]
  },
  {
   "cell_type": "code",
   "execution_count": 28,
   "metadata": {},
   "outputs": [
    {
     "data": {
      "text/plain": [
       "1261"
      ]
     },
     "execution_count": 28,
     "metadata": {},
     "output_type": "execute_result"
    }
   ],
   "source": [
    "len(first_last[first_last.ts_min == first_last.ts_max])"
   ]
  },
  {
   "cell_type": "markdown",
   "metadata": {},
   "source": [
    "There are 1670 users who visited the same website when they first and last visited. Out of these users, 1261 users only visited once (ts_min = ts_max), so their first and last visits are the same. <br>\n",
    "To further analyze, we can count the unique users for each such site (i.e., visited by users the first and last time)"
   ]
  },
  {
   "cell_type": "code",
   "execution_count": null,
   "metadata": {},
   "outputs": [],
   "source": []
  }
 ],
 "metadata": {
  "kernelspec": {
   "display_name": "Python 3",
   "language": "python",
   "name": "python3"
  },
  "language_info": {
   "codemirror_mode": {
    "name": "ipython",
    "version": 3
   },
   "file_extension": ".py",
   "mimetype": "text/x-python",
   "name": "python",
   "nbconvert_exporter": "python",
   "pygments_lexer": "ipython3",
   "version": "3.7.1"
  },
  "toc": {
   "base_numbering": 1,
   "nav_menu": {},
   "number_sections": true,
   "sideBar": true,
   "skip_h1_title": false,
   "title_cell": "Table of Contents",
   "title_sidebar": "Contents",
   "toc_cell": true,
   "toc_position": {},
   "toc_section_display": true,
   "toc_window_display": true
  }
 },
 "nbformat": 4,
 "nbformat_minor": 2
}
